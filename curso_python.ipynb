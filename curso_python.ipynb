{
  "nbformat": 4,
  "nbformat_minor": 0,
  "metadata": {
    "colab": {
      "name": "curso_python.ipynb",
      "provenance": [],
      "collapsed_sections": [],
      "authorship_tag": "ABX9TyNzSt5UO822OXgNvz3YpKyD",
      "include_colab_link": true
    },
    "kernelspec": {
      "name": "python3",
      "display_name": "Python 3"
    },
    "language_info": {
      "name": "python"
    }
  },
  "cells": [
    {
      "cell_type": "markdown",
      "metadata": {
        "id": "view-in-github",
        "colab_type": "text"
      },
      "source": [
        "<a href=\"https://colab.research.google.com/github/dianaramosmarcos/Curso_introduccion_python/blob/main/curso_python.ipynb\" target=\"_parent\"><img src=\"https://colab.research.google.com/assets/colab-badge.svg\" alt=\"Open In Colab\"/></a>"
      ]
    },
    {
      "cell_type": "markdown",
      "metadata": {
        "id": "_B4KOfWyNgxt"
      },
      "source": [
        "#CONCEPTOS FUNDAMENTALES DE PROGRAMACIÓN"
      ]
    },
    {
      "cell_type": "markdown",
      "metadata": {
        "id": "FjrRmJIBN49I"
      },
      "source": [
        "##Tipos de datos"
      ]
    },
    {
      "cell_type": "markdown",
      "metadata": {
        "id": "4EZ9YQxeQ48N"
      },
      "source": [
        "\n",
        "Los datos a procesar por una computadora pueden clasificarse en:\n",
        "\n",
        "*   Simples\n",
        "*   Estructurados\n",
        "\n",
        "La principal característica de los datos simples es que ocupan sólo una casilla de memoria, por lo tanto, una variable simple hace referencia a un unico valor a la vez. Dentro de este grupo de datos se encuentran: enteros, reales, caracteres, booleanos,enumerados y subrangos (los dos últimos no existen en algunos lenguajes de programación).\n",
        "\n",
        "Los datos estructurados se caracterizan por el hecho de que con un nombre (identificador de variable estructurada) se hace referencia a un grupo de casillas de memoria. Es decir, un dato estructurado tiene varios componentes. Cada uno de los componentes puede ser a su vez un dato simple o estructurado. Sin embargo, los componentes básicos (los del nivel más bajo) de cualquier tipo estructurado son datos simples. Dentro de este grupo de datos se encuentran: arreglos,cadena de caracteres, registros y conjuntos.\n",
        "\n",
        "\n",
        "A continuación trataremos los datos simples: enteros, reales, caracteres y booleanos; y el dato estructurado: cadena de caracteres. \n",
        "\n",
        "**Datos numéricos**\n",
        "\n",
        "Dentro de los tipos de datos numéricos encontramos los enteros y los reales. Los *enteros* son números que pueden estar precedidos del signo + o -. y que no tienen parte decimal. Por ejemplo:\n",
        "\n",
        "* 128\n",
        "* 1528\n",
        "* -714\n",
        "* 8530   \n",
        "* 16235  \n",
        "* -14780\n",
        "\n",
        "Los *reales* son números que pueden estar precedidos del signo + o -, y que tienen una parte decimal. Por ejemplo:\n",
        "\n",
        "\n",
        "* 7.5\n",
        "* 128.0\n",
        "* -37.865\n",
        "* 129.7\n",
        "* 16000.50\n",
        "* -15.0\n",
        "\n",
        "\n",
        "**Datos alfanuméricos**\n",
        "Dentro de este tipo de datos encontramos los de tipo caracter (simple) y cadena de caracteres (estructurado). Son datos cuyo contenido pueden ser letras del abecedarios (a,b,c,...,z), dígitos (0,1,2,...,9) o símbolos especiales (#,$,^,*,%,/,!,+,-,...,etc.). Debemos remarcar que aunque este tipo de datos pueden contener números, no pueden ser utilizados para realizar operaciones aritméticas. \n",
        "Un dato tipo *caracter* contiene un solo caracter, y se escribe entre apóstrofes.\n",
        "Por ejemplo:\n",
        "\n",
        "\n",
        "* 'a'\n",
        "* 'B'\n",
        "* '$'\n",
        "* '9'\n",
        "* '_'\n",
        "* '#'\n",
        "* 'f'\n",
        "\n",
        "\n",
        "Un dato tipo *cadena de caracteres* contiene un conjunto de caracteres, y se escribe entre comillas. La longitud de una cadena depende de los lenguajes de programación, aunque normalmente se acepta una longitud máxima de 255.\n",
        "* \"abcde\"\n",
        "* \"$9#7\"\n",
        "* \"Carlos Gómez\"\n",
        "* \"Rosario\"\n",
        "* \"754-27-22\"\n",
        "\n",
        "**Datos lógicos**\n",
        "Dentro de este tipo de datos encontramos los booleanos. Son datos que sólo pueden tomar dos valores: verdadero (true) o salso (false).\n"
      ]
    },
    {
      "cell_type": "markdown",
      "metadata": {
        "id": "BJOjquW3jpCm"
      },
      "source": [
        "##Los tipos de datos básicos en Python son los siguientes:"
      ]
    },
    {
      "cell_type": "markdown",
      "metadata": {
        "id": "A5U8iiDXmxNO"
      },
      "source": [
        "**Número Entero (int)**\n",
        "\n",
        "Este tipo de dato se corresponde con números enteros, es decir, sin parte decimal.\n",
        "\n",
        "**Número Decimal (float)**\n",
        "\n",
        "Este tipo de dato se corresponde con números reales con parte decimal. Cabe destacar que el separador decimal en Python es el punto (.) y no la coma (,).\n",
        "\n",
        "**Caracter (chr)**\n",
        "\n",
        "Este tipo de dato se corresponde con un símbolo tipográfico, es decir, una letra, número, coma, espacio, signo de punutación, etc.\n",
        "\n",
        "**Cadena de Texto (str)**\n",
        "\n",
        "Este tipo de datos se corresponde con una cadena de caracteres.\n",
        "\n",
        "**Booleano (bool)**\n",
        "\n",
        "Este tipo de dato reconoce solamente dos valores: Verdadero (True) y Falso \n",
        "(False)\n",
        "\n",
        "Ejemplo\n",
        "\n",
        "\n",
        "---\n",
        "\n"
      ]
    },
    {
      "cell_type": "code",
      "metadata": {
        "id": "33BY-V8jkizz"
      },
      "source": [
        "entero = 80\n",
        "decimal = 6.14159\n",
        "caracter = 'Q'\n",
        "cadena = 'Diana Ramos'\n",
        "booleano = True"
      ],
      "execution_count": 1,
      "outputs": []
    },
    {
      "cell_type": "code",
      "metadata": {
        "colab": {
          "base_uri": "https://localhost:8080/"
        },
        "id": "X2SYVJEUkkRj",
        "outputId": "75e645fb-28af-4c30-fde7-2d36dce08892"
      },
      "source": [
        "print (entero)"
      ],
      "execution_count": 2,
      "outputs": [
        {
          "output_type": "stream",
          "text": [
            "80\n"
          ],
          "name": "stdout"
        }
      ]
    },
    {
      "cell_type": "code",
      "metadata": {
        "colab": {
          "base_uri": "https://localhost:8080/"
        },
        "id": "qlshfDfGkzNR",
        "outputId": "ce7544a1-07c8-4356-9b4e-553024b888c1"
      },
      "source": [
        "print(decimal)"
      ],
      "execution_count": 3,
      "outputs": [
        {
          "output_type": "stream",
          "text": [
            "6.14159\n"
          ],
          "name": "stdout"
        }
      ]
    },
    {
      "cell_type": "markdown",
      "metadata": {
        "id": "t8zouLwoOBbi"
      },
      "source": [
        "##Identificadores, constantes y variables"
      ]
    },
    {
      "cell_type": "markdown",
      "metadata": {
        "id": "FsCOnDONWhJY"
      },
      "source": [
        "\n",
        "**Identificadores**\n",
        "\n",
        "Los datos a procesar por una computadora, ya sean simples o estructurados, deben almacenarse en casillas o celdas de memoria para su posterior utilización. Estas casillas o celdas de memoria (constantes o variables) tienen un *nombre* que permite su identificación. \n",
        "\n",
        "Llamaremos identificador al nombre que se les da a las casillas de memoria, es decir, el nombre que se les asignan a los objetos.\n",
        "\n",
        "**Constantes**\n",
        "\n",
        "Un valor que se le asigna a un identificador el cual no cambia durante la ejecución o proceso de solución del problema.\n",
        "\n",
        "**Variables**\n",
        "\n",
        "Objetos vuyo valor cambia durante la ejecución o proceso de solución del problema."
      ]
    },
    {
      "cell_type": "markdown",
      "metadata": {
        "id": "JY_P4ioUOKth"
      },
      "source": [
        "##Operadores"
      ]
    },
    {
      "cell_type": "markdown",
      "metadata": {
        "id": "TrcCEE9uOQGQ"
      },
      "source": [
        "##Diagrama de flujo"
      ]
    },
    {
      "cell_type": "markdown",
      "metadata": {
        "id": "YO4DIMAUOX-u"
      },
      "source": [
        "##Estructuras de control: Secuenciales, de decisión y bucles"
      ]
    },
    {
      "cell_type": "markdown",
      "metadata": {
        "id": "owiDNcDUOkSk"
      },
      "source": [
        "##Programas"
      ]
    },
    {
      "cell_type": "markdown",
      "metadata": {
        "id": "iPOqmhQAOo2c"
      },
      "source": [
        "#INTRODUCCIÓN A PYTHON"
      ]
    },
    {
      "cell_type": "markdown",
      "metadata": {
        "id": "YqQZtSnNPkq0"
      },
      "source": [
        "##Operadores y operandos de Python"
      ]
    },
    {
      "cell_type": "markdown",
      "metadata": {
        "id": "Wi7jtR1KO2gy"
      },
      "source": [
        "##Orden de operación"
      ]
    },
    {
      "cell_type": "markdown",
      "metadata": {
        "id": "Z-1vNkKqO5Ff"
      },
      "source": [
        "##Guardar variables"
      ]
    },
    {
      "cell_type": "markdown",
      "metadata": {
        "id": "S5TmO7YaO8Tq"
      },
      "source": [
        "##Expresiones"
      ]
    },
    {
      "cell_type": "markdown",
      "metadata": {
        "id": "K44OXnAbPAwr"
      },
      "source": [
        "##Funciones de Python"
      ]
    },
    {
      "cell_type": "markdown",
      "metadata": {
        "id": "Qbp1Q3eWPeZz"
      },
      "source": [
        "##Creación de funciones"
      ]
    },
    {
      "cell_type": "markdown",
      "metadata": {
        "id": "FNx9Q2fkPz1G"
      },
      "source": [
        "##Estructura de decisión: If"
      ]
    },
    {
      "cell_type": "markdown",
      "metadata": {
        "id": "l_HssBhTP4CZ"
      },
      "source": [
        "##Estructuras repetitivas: For, While, Do-While"
      ]
    },
    {
      "cell_type": "markdown",
      "metadata": {
        "id": "16GjXy3_QMpg"
      },
      "source": [
        "##Datos estructurados: Listas, tuplas, diccionarios y matrices"
      ]
    },
    {
      "cell_type": "markdown",
      "metadata": {
        "id": "AOc4ypYOQk9p"
      },
      "source": [
        "##Importando módulos"
      ]
    }
  ]
}