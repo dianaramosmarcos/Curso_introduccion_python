{
  "nbformat": 4,
  "nbformat_minor": 0,
  "metadata": {
    "colab": {
      "name": "curso_python.ipynb",
      "provenance": [],
      "collapsed_sections": [
        "JY_P4ioUOKth",
        "vuqGrkUB5sgk"
      ],
      "authorship_tag": "ABX9TyOSh3i1EFZEUhjUwpoxYcXR",
      "include_colab_link": true
    },
    "kernelspec": {
      "name": "python3",
      "display_name": "Python 3"
    },
    "language_info": {
      "name": "python"
    }
  },
  "cells": [
    {
      "cell_type": "markdown",
      "metadata": {
        "id": "view-in-github",
        "colab_type": "text"
      },
      "source": [
        "<a href=\"https://colab.research.google.com/github/dianaramosmarcos/Curso_introduccion_python/blob/main/curso_python.ipynb\" target=\"_parent\"><img src=\"https://colab.research.google.com/assets/colab-badge.svg\" alt=\"Open In Colab\"/></a>"
      ]
    },
    {
      "cell_type": "markdown",
      "metadata": {
        "id": "sk-a3nip3vPS"
      },
      "source": [
        "#PYTHON"
      ]
    },
    {
      "cell_type": "markdown",
      "metadata": {
        "id": "Nkr234bs32Gk"
      },
      "source": [
        "Python es un lenguaje de programación de alto nivel creado por Guido Van Rossum, poderoso y fácil de aprender gracias a su sintaxis, tipado dinámico y limpio."
      ]
    },
    {
      "cell_type": "markdown",
      "metadata": {
        "id": "mQEaFVl_Gt3J"
      },
      "source": [
        "\n",
        "\n",
        "**Sistema de gestión de paquetes (Anaconda)**\n",
        "\n",
        "Python puede estar gestionado por un “sistema de gestión de paquetes” (como Anaconda) cuyo intérprete de Python no está accesible desde la consola normal del sistema; requiere acceder desde la consola del gestor de paquetes (por ejemplo, desde la consola de Anaconda y que además se llama “base”).\n",
        "\n",
        "La principal diferencia entre *Anaconda y Python* es que, Anaconda es una distribución de lenguajes de programación Python y R para tareas de ciencia de datos y aprendizaje automático, mientras que Python es un lenguaje de programación que no solo se utiliza en ciencia de datos y aprendizaje automático, sino también en una variedad de aplicaciones en desarrollo web y programas de redes.\n",
        "\n",
        "\n",
        "---\n",
        "\n",
        "\n",
        "***Entorno de desarrollo Integrado***\n",
        "\n",
        "Un entorno de desarrollo integrado (IDE, sigla en inglés de integrated development environment) es un sistema de software para el diseño de aplicaciones que combina herramientas del desarrollador, usualmente en un entorno visual, de forma que el programador no necesite introducir múltiples comandos para compilar (traducir un código de programación a codigo ejecutable por la máquina), interpretar, etc.\n",
        "\n",
        "Puede dedicarse en exclusiva a un solo lenguaje de programación o bien puede utilizarse para varios. Como ejemplos de un IDE son Spyder y Thonny.\n",
        "\n",
        "\n",
        "**Spyder** \n",
        "\n",
        "Es un entorno de desarrollo integrado (IDE) gratuito que se incluye con Anaconda. Es un entorno escrito en Python, para Python, y diseñado por y para científicos, ingenieros y analistas de datos. \n",
        "\n",
        "\n",
        "**Thonny**\n",
        "\n",
        "Este editor Python para principiantes es multiplataforma. Lo puedes encontrar en Windows, MacOS y Linux. \n",
        "\n",
        "\n",
        "---\n",
        "\n",
        "\n",
        "---\n",
        "\n",
        "\n",
        "\n"
      ]
    },
    {
      "cell_type": "markdown",
      "metadata": {
        "id": "wmMqtRmT3_nR"
      },
      "source": [
        "***Entornos interactivos desde la web***\n",
        "\n",
        "Los entornos en la web permiten ejecutar líneas de código de manera cómoda y sin necesidad de escribir un fichero de código explícitamente para ello. Estos intérpretes  dan la facilidad de poder ejecutar código Python y testear sin la necesidad de preocuparnos de instalarlos y  podemos acceder a estos intérpretes por medio de la web, como es **Google Colab y Jupyter**.\n",
        "\n",
        "Estos tienen la particularidad de que utilizan celdas para el desarrollo, lo que permite ejecutar el código celda a celda y ver que va saliendo. Además, permiten guardar imágenes y texto y son faciles de compartir.\n",
        "\n",
        "---\n",
        "\n",
        "**Jupyter Notebook**\n",
        "\n",
        "Este entorno de desarrollo es una aplicación web que podemos correr en un navegador como Chrome, Firefox, etc. En concreto, esta aplicación facilita la creación de cuadernos (notebooks) compuestos por celdas. En estas celdas podemos desarrollar nuestro código Python e irlas ejecutando una a una. Este entorno es muy popular en data science y machine learning, ya que permite visualizar gráficos y tener el código que los ha generado en un mismo documento.\n",
        "\n",
        "**Google Colab o Colaboratoy**\n",
        "\n",
        "Colaboratory, también llamado \"Colab\", está basado en los Notebooks de Jupyter. Pemite ejecutar y programar en Python en algun navegador con las siguientes ventajas: no requiere configuración y permite compartir contenido fácilmente.\n",
        "\n",
        "https://colab.research.google.com/notebooks/intro.ipynb\n",
        "\n",
        "\n",
        "\n",
        "\n",
        "---\n",
        "\n",
        "\n",
        "\n",
        "---\n",
        "\n",
        "\n"
      ]
    },
    {
      "cell_type": "markdown",
      "metadata": {
        "id": "_B4KOfWyNgxt"
      },
      "source": [
        "#CONCEPTOS FUNDAMENTALES DE PROGRAMACIÓN"
      ]
    },
    {
      "cell_type": "markdown",
      "metadata": {
        "id": "WmQtE1T9wwfW"
      },
      "source": [
        "## Algoritmo vs programa"
      ]
    },
    {
      "cell_type": "markdown",
      "metadata": {
        "id": "StYiT76cXSS7"
      },
      "source": [
        "Un *algoritmo* es un método para resolver un \n",
        "problema mediante una serie de pasos precisos, \n",
        "definidos y finitos. Es una lista de instrucciones para efectuar paso \n",
        "por paso un proceso.\n",
        "\n",
        "\n",
        "Un *programa* es una secuencia \n",
        "ordenada de instrucciones para realizar una tarea \n",
        "determinada. Aunque son similares, no son lo mismo puesto \n",
        "que el algoritmo es independiente del \n",
        "lenguaje de programación. No así el programa \n",
        "que debe estar codificado en un determinado \n",
        "lenguaje para que la computadora lo pueda \n",
        "ejecutar"
      ]
    },
    {
      "cell_type": "markdown",
      "metadata": {
        "id": "FjrRmJIBN49I"
      },
      "source": [
        "##Tipos de datos"
      ]
    },
    {
      "cell_type": "markdown",
      "metadata": {
        "id": "4EZ9YQxeQ48N"
      },
      "source": [
        "\n",
        "Los datos a procesar por una computadora pueden clasificarse en:\n",
        "\n",
        "*   Simples\n",
        "*   Estructurados\n",
        "\n",
        "La principal característica de los datos simples es que ocupan sólo una casilla de memoria, por lo tanto, una variable simple hace referencia a un unico valor a la vez. Dentro de este grupo de datos se encuentran: enteros, reales, caracteres, booleanos,enumerados y subrangos (los dos últimos no existen en algunos lenguajes de programación).\n",
        "\n",
        "Los datos estructurados se caracterizan por el hecho de que con un nombre (identificador de variable estructurada) se hace referencia a un grupo de casillas de memoria. Es decir, un dato estructurado tiene varios componentes. Cada uno de los componentes puede ser a su vez un dato simple o estructurado. Sin embargo, los componentes básicos (los del nivel más bajo) de cualquier tipo estructurado son datos simples. Dentro de este grupo de datos se encuentran: arreglos,cadena de caracteres, registros y conjuntos.\n",
        "\n",
        "\n",
        "A continuación trataremos los datos simples: enteros, reales, caracteres y booleanos; y el dato estructurado: cadena de caracteres. \n",
        "\n",
        "**Datos numéricos**\n",
        "\n",
        "Dentro de los tipos de datos numéricos encontramos los enteros y los reales. Los *enteros* son números que pueden estar precedidos del signo + o -. y que no tienen parte decimal. Por ejemplo:\n",
        "\n",
        "* 128\n",
        "* 1528\n",
        "* -714\n",
        "* 8530   \n",
        "* 16235  \n",
        "* -14780\n",
        "\n",
        "Los *reales* son números que pueden estar precedidos del signo + o -, y que tienen una parte decimal. Por ejemplo:\n",
        "\n",
        "\n",
        "* 7.5\n",
        "* 128.0\n",
        "* -37.865\n",
        "* 129.7\n",
        "* 16000.50\n",
        "* -15.0\n",
        "\n",
        "\n",
        "**Datos alfanuméricos**\n",
        "Dentro de este tipo de datos encontramos los de tipo caracter (simple) y cadena de caracteres (estructurado). Son datos cuyo contenido pueden ser letras del abecedarios (a,b,c,...,z), dígitos (0,1,2,...,9) o símbolos especiales (#,$,^,*,%,/,!,+,-,...,etc.). Debemos remarcar que aunque este tipo de datos pueden contener números, no pueden ser utilizados para realizar operaciones aritméticas. \n",
        "Un dato tipo *caracter* contiene un solo caracter, y se escribe entre apóstrofes.\n",
        "Por ejemplo:\n",
        "\n",
        "\n",
        "* 'a'\n",
        "* 'B'\n",
        "* '$'\n",
        "* '9'\n",
        "* '_'\n",
        "* '#'\n",
        "* 'f'\n",
        "\n",
        "\n",
        "Un dato tipo *cadena de caracteres* contiene un conjunto de caracteres, y se escribe entre comillas. La longitud de una cadena depende de los lenguajes de programación, aunque normalmente se acepta una longitud máxima de 255.\n",
        "* \"abcde\"\n",
        "* \"$9#7\"\n",
        "* \"Carlos Gómez\"\n",
        "* \"Rosario\"\n",
        "* \"754-27-22\"\n",
        "\n",
        "**Datos lógicos**\n",
        "Dentro de este tipo de datos encontramos los booleanos. Son datos que sólo pueden tomar dos valores: verdadero (true) o salso (false).\n"
      ]
    },
    {
      "cell_type": "markdown",
      "metadata": {
        "id": "BJOjquW3jpCm"
      },
      "source": [
        "##Los tipos de datos básicos en Python son los siguientes:"
      ]
    },
    {
      "cell_type": "markdown",
      "metadata": {
        "id": "A5U8iiDXmxNO"
      },
      "source": [
        "**Número Entero (int)**\n",
        "\n",
        "Este tipo de dato se corresponde con números enteros, es decir, sin parte decimal.\n",
        "\n",
        "**Número Decimal (float)**\n",
        "\n",
        "Este tipo de dato se corresponde con números reales con parte decimal. Cabe destacar que el separador decimal en Python es el punto (.) y no la coma (,).\n",
        "\n",
        "**Caracter (chr)**\n",
        "\n",
        "Este tipo de dato se corresponde con un símbolo tipográfico, es decir, una letra, número, coma, espacio, signo de punutación, etc.\n",
        "\n",
        "**Cadena de Texto (str)**\n",
        "\n",
        "Este tipo de datos se corresponde con una cadena de caracteres.\n",
        "\n",
        "**Booleano (bool)**\n",
        "\n",
        "Este tipo de dato reconoce solamente dos valores: Verdadero (True) y Falso \n",
        "(False)\n",
        "\n",
        "Ejemplo\n",
        "\n",
        "\n",
        "---\n",
        "\n"
      ]
    },
    {
      "cell_type": "code",
      "metadata": {
        "id": "33BY-V8jkizz"
      },
      "source": [
        "entero = 80\n",
        "decimal = 6.14159\n",
        "caracter = 'Q'\n",
        "cadena = 'Diana Ramos'\n",
        "booleano = True"
      ],
      "execution_count": null,
      "outputs": []
    },
    {
      "cell_type": "code",
      "metadata": {
        "colab": {
          "base_uri": "https://localhost:8080/"
        },
        "id": "X2SYVJEUkkRj",
        "outputId": "75e645fb-28af-4c30-fde7-2d36dce08892"
      },
      "source": [
        "print (entero)"
      ],
      "execution_count": null,
      "outputs": [
        {
          "output_type": "stream",
          "text": [
            "80\n"
          ],
          "name": "stdout"
        }
      ]
    },
    {
      "cell_type": "code",
      "metadata": {
        "colab": {
          "base_uri": "https://localhost:8080/"
        },
        "id": "qlshfDfGkzNR",
        "outputId": "ce7544a1-07c8-4356-9b4e-553024b888c1"
      },
      "source": [
        "print(decimal)"
      ],
      "execution_count": null,
      "outputs": [
        {
          "output_type": "stream",
          "text": [
            "6.14159\n"
          ],
          "name": "stdout"
        }
      ]
    },
    {
      "cell_type": "markdown",
      "metadata": {
        "id": "t8zouLwoOBbi"
      },
      "source": [
        "##Identificadores, constantes y variables"
      ]
    },
    {
      "cell_type": "markdown",
      "metadata": {
        "id": "FsCOnDONWhJY"
      },
      "source": [
        "\n",
        "**Identificadores**\n",
        "\n",
        "Los datos a procesar por una computadora, ya sean simples o estructurados, deben almacenarse en casillas o celdas de memoria para su posterior utilización. Estas casillas o celdas de memoria (constantes o variables) tienen un *nombre* que permite su identificación. \n",
        "\n",
        "Llamaremos identificador al nombre que se les da a las casillas de memoria, es decir, el nombre que se les asignan a los objetos.\n",
        "\n",
        "**Constantes**\n",
        "\n",
        "Un valor que se le asigna a un identificador el cual no cambia durante la ejecución o proceso de solución del problema.\n",
        "\n",
        "**Variables**\n",
        "\n",
        "Objetos cuyo valor cambia durante la ejecución o proceso de solución del problema."
      ]
    },
    {
      "cell_type": "markdown",
      "metadata": {
        "id": "JY_P4ioUOKth"
      },
      "source": [
        "##Operadores\n"
      ]
    },
    {
      "cell_type": "markdown",
      "metadata": {
        "id": "w5PWP2TkZX8y"
      },
      "source": [
        "Los operadores son símbolos que le indican al intérprete que realice una operación específica, como aritmética, comparación, lógica, etc."
      ]
    },
    {
      "cell_type": "code",
      "metadata": {
        "id": "CTqf4KyBlSqf"
      },
      "source": [
        "c = \"ho\"- \"o\""
      ],
      "execution_count": null,
      "outputs": []
    },
    {
      "cell_type": "code",
      "metadata": {
        "id": "hoe2sSktl7NI"
      },
      "source": [
        "c == c"
      ],
      "execution_count": null,
      "outputs": []
    },
    {
      "cell_type": "code",
      "metadata": {
        "colab": {
          "base_uri": "https://localhost:8080/"
        },
        "id": "Zk67YSjNmDlx",
        "outputId": "ca04e066-2c3c-4c5a-cc04-9f2c9c567d4c"
      },
      "source": [
        "c = 4\n",
        "a = c\n",
        "print(a)"
      ],
      "execution_count": null,
      "outputs": [
        {
          "output_type": "stream",
          "text": [
            "3\n"
          ],
          "name": "stdout"
        }
      ]
    },
    {
      "cell_type": "code",
      "metadata": {
        "id": "BbHgw5Prm5uF"
      },
      "source": [
        "c=4\n",
        "a = c"
      ],
      "execution_count": null,
      "outputs": []
    },
    {
      "cell_type": "code",
      "metadata": {
        "colab": {
          "base_uri": "https://localhost:8080/"
        },
        "id": "FHXTI0FFm7wx",
        "outputId": "3e79f5d3-249b-4fcf-80a8-2a203026dbe6"
      },
      "source": [
        "print (a)"
      ],
      "execution_count": null,
      "outputs": [
        {
          "output_type": "stream",
          "text": [
            "4\n"
          ],
          "name": "stdout"
        }
      ]
    },
    {
      "cell_type": "markdown",
      "metadata": {
        "id": "TrcCEE9uOQGQ"
      },
      "source": [
        "##Diagrama de flujo"
      ]
    },
    {
      "cell_type": "markdown",
      "metadata": {
        "id": "ggMtqo6qn85M"
      },
      "source": [
        "Los diagramás de flujo son una de las técnicas para formular algorítmos y se refieren a la esquematización gráfica de estos. Es importante mencionar que, los diagramas son una forma para que aquellos que se adentran en el mundo de la programación comiencen a desarrollar la habilidad y capacidad de razonamiento estructurado y flexible, y que en la medida de lo posible, esto les permita obtener la solución a algún problema. \n",
        "\n",
        "Estos diagramas se basan en la utilización de diversos símbolos para\n",
        "representar operaciones específicas. En otras palabras, muestra gráficamente los pasos o procesos a seguir para alcanzar la solución de un problema. Los símbolos se encuentran conectados por medio de flechas, las cuales indican p la secuencia de operación. Se pueden hacer en una hoja de papel, una herramienta de\n",
        "dibujo o en aplicaciones en línea como:\n",
        "https://app.diagrams.net/\n",
        "\n",
        "\n",
        "Reglas básicas para la elaboración de diagramas:\n",
        "1. Todo diagrama debe tener un inicio y un fin\n",
        "2. Las líneas utilizadas para indicar el flujo del diagrama no se deben cruzar, no estar inclinadas.\n",
        "3. Todas las líneas utilizadas deben estar conectadas a un símbolo\n",
        "4. El diagrama de flujo debe estar contruido de arriba hacia abajo.\n",
        "5. La notación utilizada en el diagrama de flujo debe ser independiente del lenguaje de programación.\n",
        "6. No puede llegar más de una línea a un símbolo."
      ]
    },
    {
      "cell_type": "code",
      "metadata": {
        "colab": {
          "base_uri": "https://localhost:8080/"
        },
        "id": "8A3swyuR5fwH",
        "outputId": "ff646f80-9d1c-49da-e296-9fe4d5e04aea"
      },
      "source": [
        "radio = float(input(\"introduce el radio :\"))\n",
        "PI = 3.1416\n",
        "A = PI*(radio)**2\n",
        "P = 2*PI*radio\n",
        "print(\"Area =\", A)\n",
        "print(\"Perimetro =\", P)"
      ],
      "execution_count": null,
      "outputs": [
        {
          "output_type": "stream",
          "text": [
            "introduce el radio :3\n",
            "Area = 28.2744\n",
            "Perimetro = 18.8496\n"
          ],
          "name": "stdout"
        }
      ]
    },
    {
      "cell_type": "markdown",
      "metadata": {
        "id": "YO4DIMAUOX-u"
      },
      "source": [
        "##Estructuras de control: Secuenciales, de decisión y bucles"
      ]
    },
    {
      "cell_type": "markdown",
      "metadata": {
        "id": "Sb-0-Uez4bgK"
      },
      "source": [
        "Las estructuras de control se refieren a la secuencia en que se realizan las\n",
        "operaciones o acciones para resolver el problema.  Las estructuras de control se pueden clasificar en: secuenciales, de decisión y de ciclo o repetición o iterativas. "
      ]
    },
    {
      "cell_type": "markdown",
      "metadata": {
        "id": "MjzlTr8e0GQg"
      },
      "source": [
        "***Estructuras secuenciales***.\n",
        "En este tipo de estructura las instrucciones se realizan o\n",
        "se ejecutan una después de la otra. \n"
      ]
    },
    {
      "cell_type": "markdown",
      "metadata": {
        "id": "_X2Cu-nhUte7"
      },
      "source": [
        "**Estructuras de decisión simples.** Son estructuras que evaluan una condición. Si la condición se cumple (ES VERDADERA), toma la decisión de \n",
        "ejecutar determinado bloque de código especificado; modificando el flujo \n",
        "normal del programa a través de una  bifurcación. En caso de ser \n",
        "determinada como FALSA, continua el flujo normalmente haciendo caso omiso de ella.\n"
      ]
    },
    {
      "cell_type": "code",
      "metadata": {
        "colab": {
          "base_uri": "https://localhost:8080/"
        },
        "id": "9s4elOKREI6g",
        "outputId": "d5170fe8-fd86-4d2b-994b-f2810fe23c2e"
      },
      "source": [
        "#Mandar un mensaje al usuario si es mayor de edad despues de que introduzca su edad\n",
        "nombre = str(input(\"Escribe tu nombre: \"))\n",
        "edad = int(input(\"¿Cuál es tu edad?: \"))\n",
        "if (edad>=18):\n",
        "  print(nombre + \", eres mayor de edad\")\n",
        "print(\"Continúa el flujo del programa\")\n",
        "\n"
      ],
      "execution_count": null,
      "outputs": [
        {
          "output_type": "stream",
          "text": [
            "Escribe tu nombre: j\n",
            "¿Cuál es tu edad?: 25\n",
            "j, eres mayor de edad\n",
            "Continúa el flujo del programa\n"
          ],
          "name": "stdout"
        }
      ]
    },
    {
      "cell_type": "markdown",
      "metadata": {
        "id": "eFtLaxbnZAvr"
      },
      "source": [
        "***Estructuras de decisión doble***. Evalúa una condición pero con la diferencia de que permite tomar dos opciones o bifurcaciones diferentes según se cumpla o no dicha condición. Se reconoce como if/else."
      ]
    },
    {
      "cell_type": "code",
      "metadata": {
        "colab": {
          "base_uri": "https://localhost:8080/"
        },
        "id": "Aw6v2d60GvUR",
        "outputId": "dc2e22a8-fafa-493a-e312-63daf7f1cd6e"
      },
      "source": [
        "#Mandar un mensaje al usuario si es mayor o menor de edad despues de que introduzca su edad\n",
        "nombre = str(input(\"Escribe tu nombre: \"))\n",
        "edad = int(input(\"¿Cuál es tu edad?: \"))\n",
        "if (edad>=18):\n",
        "  print(nombre + \", eres mayor de edad\")\n",
        "else:\n",
        "  print (nombre, \", eres menor de edad\")\n",
        "print(\"Continúa el flujo del programa\")"
      ],
      "execution_count": null,
      "outputs": [
        {
          "output_type": "stream",
          "text": [
            "Escribe tu nombre: Manuel\n",
            "¿Cuál es tu edad?: 17\n",
            "Manuel , eres menor de edad\n",
            "Continúa el flujo del programa\n"
          ],
          "name": "stdout"
        }
      ]
    },
    {
      "cell_type": "markdown",
      "metadata": {
        "id": "dSQBC9M7b1PW"
      },
      "source": [
        "***Estructuras de decisión múltiple***. En base a evaluar un valor de \n",
        "variable, permite realizar n bifurcaciones en ramales distintas; ademas de permitir agregar una por  defecto “else” al final."
      ]
    },
    {
      "cell_type": "code",
      "metadata": {
        "colab": {
          "base_uri": "https://localhost:8080/",
          "height": 129
        },
        "id": "3Nr2_sbXIENd",
        "outputId": "666ef871-04ff-4317-a256-ec9a213f64fc"
      },
      "source": [
        "#Mandar un mensaje al usuario si es mayor o menor de edad despues de que introduzca su edad\n",
        "nombre = str(input(\"Escribe tu nombre: \"))\n",
        "edad = int(input(\"¿Cuál es tu edad?: \"))\n",
        "if (edad>18):\n",
        "  print(nombre + \", eres mayor de edad\")\n",
        "elif (edad==18):\n",
        "  print(nombre,\", eres una nena\") \n",
        "else:\n",
        "  print (nombre, \", eres menor de edad\")\n",
        "print(\"Continúa el flujo del programa\")"
      ],
      "execution_count": null,
      "outputs": [
        {
          "output_type": "error",
          "ename": "SyntaxError",
          "evalue": "ignored",
          "traceback": [
            "\u001b[0;36m  File \u001b[0;32m\"<ipython-input-9-f48e2ab3138d>\"\u001b[0;36m, line \u001b[0;32m6\u001b[0m\n\u001b[0;31m    elif (edad=18):\u001b[0m\n\u001b[0m              ^\u001b[0m\n\u001b[0;31mSyntaxError\u001b[0m\u001b[0;31m:\u001b[0m invalid syntax\n"
          ]
        }
      ]
    },
    {
      "cell_type": "markdown",
      "metadata": {
        "id": "YEpSIuUvJW4R"
      },
      "source": [
        "Tarea:\n",
        "\n",
        "Calcular el salario neto de un trabajador en base a las siguientes consideraciones:\n",
        "\n",
        "\n",
        "\n",
        "1.   Para un salario bruto menor o igual a $8,000.00 no hay retención.\n",
        "\n",
        "2.   Si el salario bruto es mayor que 8,000.00 y menor que $28,000.00 la retención es del 8%\n",
        "\n",
        "3.   Si el salario bruto es mayor o igual que $28,000.00 la retención es del 15%\n"
      ]
    },
    {
      "cell_type": "markdown",
      "metadata": {
        "id": "9RNjdX4Xj3mF"
      },
      "source": [
        "***Estructuras iterativas, repetitivas o bucles.*** Estas estructuras evalúan una instrucción a verdadero o falso, parecido a las estructuras de decisión, con la diferencia que si la condición evaluada es:\n",
        "* FALSA: las instrucciones del bloque no se ejecutan.\n",
        "* VERDADERA: El bloque de instrucciones se ejecuta y después se vuelve a evaluar la condición, para decidir de nuevo si el bloque de instrucciones se vuelve a ejecutar o no. Y así sucesivamente hasta que la condición sea falsa.\n",
        "\n",
        "Hay tres tipos de estructuras iterativas en Python:\n",
        "\n",
        "1. Mientras ... hacer -> While\n",
        "2. Hacer... mientras -> While\n",
        "3. Para -> For"
      ]
    },
    {
      "cell_type": "code",
      "metadata": {
        "id": "Dtja6LCDzF1I"
      },
      "source": [
        "#While\n",
        "c = 0\n",
        "while c <= 5:\n",
        "    c+=1\n",
        "    print(\"c vale\", c)\n",
        "print(\"Saliste del bucle\")"
      ],
      "execution_count": null,
      "outputs": []
    },
    {
      "cell_type": "code",
      "metadata": {
        "id": "Uy7F-i-VzUOT"
      },
      "source": [
        "#Igual que el anterior pero con otra notación de += \n",
        "\n",
        "c = 0\n",
        "while c <= 5:\n",
        "    c = c + 1\n",
        "    print(\"c vale\", c)"
      ],
      "execution_count": null,
      "outputs": []
    },
    {
      "cell_type": "code",
      "metadata": {
        "id": "oZRIVPO7zj4e"
      },
      "source": [
        "#While y else\n",
        "c = 0\n",
        "while c <= 5:\n",
        "    c+=1\n",
        "    print(\"c vale\", c)\n",
        "else:\n",
        "    print(\"Se ha completado toda la iteración y c vale\", c)"
      ],
      "execution_count": null,
      "outputs": []
    },
    {
      "cell_type": "code",
      "metadata": {
        "id": "JXK1A7rWox52"
      },
      "source": [
        "##LOOP\n",
        "https://www.snakify.org/es/lessons/for_loop_range/\n",
        "https://docs.hektorprofe.net/python/controlando-el-flujo/iteraciones/"
      ],
      "execution_count": null,
      "outputs": []
    },
    {
      "cell_type": "code",
      "metadata": {
        "id": "iB0g759DpQ4Z"
      },
      "source": [
        "#Operación módulo % , que calcula el resto de una división entera"
      ],
      "execution_count": null,
      "outputs": []
    },
    {
      "cell_type": "markdown",
      "metadata": {
        "id": "owiDNcDUOkSk"
      },
      "source": [
        "##Programas"
      ]
    },
    {
      "cell_type": "markdown",
      "metadata": {
        "id": "iPOqmhQAOo2c"
      },
      "source": [
        "#INTRODUCCIÓN A PYTHON"
      ]
    },
    {
      "cell_type": "markdown",
      "metadata": {
        "id": "YqQZtSnNPkq0"
      },
      "source": [
        "##Operadores y operandos de Python"
      ]
    },
    {
      "cell_type": "code",
      "metadata": {
        "colab": {
          "base_uri": "https://localhost:8080/"
        },
        "id": "qAO2oqPTZDGl",
        "outputId": "c01b30a6-a3ce-42d2-d548-d8ebfd90d96b"
      },
      "source": [
        "a = \"ho\"+\"la\"\n",
        "print(a)"
      ],
      "execution_count": null,
      "outputs": [
        {
          "output_type": "stream",
          "text": [
            "hola\n"
          ],
          "name": "stdout"
        }
      ]
    },
    {
      "cell_type": "markdown",
      "metadata": {
        "id": "B7BeV5RwZRuW"
      },
      "source": [
        ""
      ]
    },
    {
      "cell_type": "markdown",
      "metadata": {
        "id": "Wi7jtR1KO2gy"
      },
      "source": [
        "##Orden de operación"
      ]
    },
    {
      "cell_type": "markdown",
      "metadata": {
        "id": "Z-1vNkKqO5Ff"
      },
      "source": [
        "##Guardar variables"
      ]
    },
    {
      "cell_type": "markdown",
      "metadata": {
        "id": "S5TmO7YaO8Tq"
      },
      "source": [
        "##Expresiones"
      ]
    },
    {
      "cell_type": "markdown",
      "metadata": {
        "id": "CoCeKO5zRd8O"
      },
      "source": [
        "Cuando escribimos código, estamos escribiendo expresiones. Aprender a programar incluye aprender a estructurar las expresiones correctamente que nos llevaran a las soluciones de nuestro problema."
      ]
    },
    {
      "cell_type": "markdown",
      "metadata": {
        "id": "51wBPpPBnN9l"
      },
      "source": [
        "Tipos de errores\n",
        "\n",
        "1. Error de sintaxis o interpretación. Se produce  por un uso  incorrecto de las reglas del lenguaje de programación."
      ]
    },
    {
      "cell_type": "code",
      "metadata": {
        "id": "iCNG2xjLjL4h"
      },
      "source": [
        "#Error de sintaxis\n",
        "2 + 3 = c"
      ],
      "execution_count": null,
      "outputs": []
    },
    {
      "cell_type": "markdown",
      "metadata": {
        "id": "hEmq6x9oncs5"
      },
      "source": [
        "2. Error de jecución: Se producen por instrucciones que la  computadora puede comprender pero no ejecutar. En estos casos se  detiene la ejecución del programa y se imprime un mensaje de error.  Ejemplo de esto puede ser una división por cero."
      ]
    },
    {
      "cell_type": "code",
      "metadata": {
        "id": "W_HKPkEqnnyn"
      },
      "source": [
        "#Error de ejecución\n",
        "c = 1/0"
      ],
      "execution_count": null,
      "outputs": []
    },
    {
      "cell_type": "markdown",
      "metadata": {
        "id": "JVhA9yZSpHNe"
      },
      "source": [
        "3. Errores de nombre. Se producen cuando el sistema interpreta que debe ejecutar alguna función, método, etc., pero no lo encuentra definido. Devuelve el código NameError:"
      ]
    },
    {
      "cell_type": "code",
      "metadata": {
        "id": "1Ojyu8klpCYC"
      },
      "source": [
        "pint (\"Hola mundo\")"
      ],
      "execution_count": null,
      "outputs": []
    },
    {
      "cell_type": "code",
      "metadata": {
        "id": "nmFBk7Ggpi0t"
      },
      "source": [
        "a= \"hola\"\n",
        "float(a)"
      ],
      "execution_count": null,
      "outputs": []
    },
    {
      "cell_type": "markdown",
      "metadata": {
        "id": "K44OXnAbPAwr"
      },
      "source": [
        "##Funciones de Python"
      ]
    },
    {
      "cell_type": "markdown",
      "metadata": {
        "id": "tW-apa4bp_ld"
      },
      "source": [
        "la función input(), éste siempre se obtendrá como una cadena de caracteres. Si intentamos operarlo directamente con otros números tendremos un fallo TypeError que tampoco detectan los editores de código:"
      ]
    },
    {
      "cell_type": "markdown",
      "metadata": {
        "id": "Qbp1Q3eWPeZz"
      },
      "source": [
        "##Creación de funciones"
      ]
    },
    {
      "cell_type": "markdown",
      "metadata": {
        "id": "vuqGrkUB5sgk"
      },
      "source": [
        "## Estructura secuencial"
      ]
    },
    {
      "cell_type": "code",
      "metadata": {
        "colab": {
          "base_uri": "https://localhost:8080/"
        },
        "id": "jvqPE0fb5xdu",
        "outputId": "107bd55a-6fad-4b1d-c575-de1a562ac5b7"
      },
      "source": [
        "#Ejemplo. Calcular el área y perímetro de un círculo\n",
        "radio = float(input(\"ingresa el radio\"))\n",
        "PI = 3.1416\n",
        "perimetro = 2*PI*radio\n",
        "area = PI*(radio**2)\n",
        "print (\"perímetro = \", perimetro)\n",
        "print (\"área =\", area)"
      ],
      "execution_count": null,
      "outputs": [
        {
          "output_type": "stream",
          "text": [
            "ingresa el radio5\n",
            "perimetro =  31.416\n",
            "area = 78.53999999999999\n"
          ],
          "name": "stdout"
        }
      ]
    },
    {
      "cell_type": "code",
      "metadata": {
        "id": "VLFyhZM07pqe"
      },
      "source": [
        "#Ejercicios 1, 2 y 3"
      ],
      "execution_count": null,
      "outputs": []
    },
    {
      "cell_type": "markdown",
      "metadata": {
        "id": "FNx9Q2fkPz1G"
      },
      "source": [
        "##Estructura de decisión: If"
      ]
    },
    {
      "cell_type": "markdown",
      "metadata": {
        "id": "l_HssBhTP4CZ"
      },
      "source": [
        "##Estructuras repetitivas: For, While, Do-While"
      ]
    },
    {
      "cell_type": "markdown",
      "metadata": {
        "id": "16GjXy3_QMpg"
      },
      "source": [
        "##Datos estructurados: Listas, tuplas, diccionarios y matrices"
      ]
    },
    {
      "cell_type": "markdown",
      "metadata": {
        "id": "AOc4ypYOQk9p"
      },
      "source": [
        "##Importando módulos"
      ]
    },
    {
      "cell_type": "markdown",
      "metadata": {
        "id": "xtj0GB3LRXZS"
      },
      "source": [
        "#Fuentes\n",
        "* Entornos de Python. Recuperado de:\n",
        "https://jarroba.com/entornos-de-python-anaconda-y-comun/\n",
        "\n",
        "* Anaconda Documentation. Recuperado de: https://docs.anaconda.com/\n",
        "\n",
        "* Thonny, un editor de Python para principiantes. Recuperado de: https://atareao.es/tutorial/raspberry-pi-400/thonny-un-editor-python-para-principiantes/\n",
        "\n",
        "\n",
        "\n",
        "\n"
      ]
    }
  ]
}